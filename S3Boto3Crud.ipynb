{
 "cells": [
  {
   "cell_type": "code",
   "execution_count": 5,
   "id": "4498b520",
   "metadata": {},
   "outputs": [],
   "source": [
    "import boto3"
   ]
  },
  {
   "cell_type": "code",
   "execution_count": 6,
   "id": "418a984e",
   "metadata": {},
   "outputs": [],
   "source": [
    "s3client = boto3.client('s3')"
   ]
  },
  {
   "cell_type": "code",
   "execution_count": 8,
   "id": "d7a2a47e",
   "metadata": {},
   "outputs": [
    {
     "data": {
      "text/plain": [
       "{'ResponseMetadata': {'RequestId': 'P43E687775DPEESX',\n",
       "  'HostId': 'ZS7SgVbv+txUOj+8xh1AkdejuzUjtxoqp5NAKuF/EHzzXLmLEB8LXx7plK0su0bpPyFQMhi3Pv8=',\n",
       "  'HTTPStatusCode': 200,\n",
       "  'HTTPHeaders': {'x-amz-id-2': 'ZS7SgVbv+txUOj+8xh1AkdejuzUjtxoqp5NAKuF/EHzzXLmLEB8LXx7plK0su0bpPyFQMhi3Pv8=',\n",
       "   'x-amz-request-id': 'P43E687775DPEESX',\n",
       "   'date': 'Mon, 19 Sep 2022 20:37:10 GMT',\n",
       "   'location': '/operative-aws-trainiong-3',\n",
       "   'server': 'AmazonS3',\n",
       "   'content-length': '0'},\n",
       "  'RetryAttempts': 0},\n",
       " 'Location': '/operative-aws-trainiong-3'}"
      ]
     },
     "execution_count": 8,
     "metadata": {},
     "output_type": "execute_result"
    }
   ],
   "source": [
    "s3client.create_bucket(Bucket = 'operative-aws-trainiong-3')"
   ]
  },
  {
   "cell_type": "code",
   "execution_count": 11,
   "id": "2eb42c05",
   "metadata": {},
   "outputs": [],
   "source": [
    "import boto3\n",
    "name = 'operative-aws-trainiong-3'\n",
    "s3client = boto3.resource('s3')\n",
    "\n",
    "s3client.Bucket(name).upload_file('Demo.txt','Demo.txt')"
   ]
  },
  {
   "cell_type": "code",
   "execution_count": null,
   "id": "c124da8b",
   "metadata": {},
   "outputs": [],
   "source": []
  },
  {
   "cell_type": "code",
   "execution_count": null,
   "id": "1461261d",
   "metadata": {},
   "outputs": [],
   "source": [
    "s3client.Bucket(name).downoad_file('Demo.txt','DownloadDemo.txt')                                                                                                                                                                                                                                                                                                                                                                                                                                                                                                                                                                                                                                                                                                                                                                                                                                                                                                                                                                       "
   ]
  }
 ],
 "metadata": {
  "kernelspec": {
   "display_name": "Python 3 (ipykernel)",
   "language": "python",
   "name": "python3"
  },
  "language_info": {
   "codemirror_mode": {
    "name": "ipython",
    "version": 3
   },
   "file_extension": ".py",
   "mimetype": "text/x-python",
   "name": "python",
   "nbconvert_exporter": "python",
   "pygments_lexer": "ipython3",
   "version": "3.10.4"
  }
 },
 "nbformat": 4,
 "nbformat_minor": 5
}
